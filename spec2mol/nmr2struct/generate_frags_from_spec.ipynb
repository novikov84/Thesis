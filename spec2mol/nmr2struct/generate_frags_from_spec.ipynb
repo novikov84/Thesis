{
 "cells": [
  {
   "cell_type": "code",
   "execution_count": 11,
   "id": "89010457-d0dc-4bea-89b3-2e340a31fdfe",
   "metadata": {},
   "outputs": [],
   "source": [
    "import json\n",
    "import torch\n",
    "from nmr2struct.spec2frags_model import Spec2FragsDataset, Transformer\n",
    "from tqdm import tqdm"
   ]
  },
  {
   "cell_type": "code",
   "execution_count": 12,
   "id": "01c5d83c-225f-41e7-b614-bf2c121ccc00",
   "metadata": {},
   "outputs": [
    {
     "data": {
      "text/plain": [
       "True"
      ]
     },
     "execution_count": 12,
     "metadata": {},
     "output_type": "execute_result"
    }
   ],
   "source": [
    "torch.cuda.is_available()"
   ]
  },
  {
   "cell_type": "code",
   "execution_count": 13,
   "id": "9ab79bc9-41de-4c94-afac-a74a180f22f7",
   "metadata": {},
   "outputs": [],
   "source": [
    "data = json.load(open('nmr2struct/data/processed_spec_data.json', 'r'))"
   ]
  },
  {
   "cell_type": "code",
   "execution_count": 14,
   "id": "6364a983-5db8-4fb3-b33c-b2539a547b20",
   "metadata": {},
   "outputs": [],
   "source": [
    "train_val_idxs = json.load(open('nmr2struct/train_test_split.json'))"
   ]
  },
  {
   "cell_type": "code",
   "execution_count": 15,
   "id": "a2a50ca7-d338-492e-b7d6-1cc06b3d0536",
   "metadata": {},
   "outputs": [
    {
     "name": "stderr",
     "output_type": "stream",
     "text": [
      "100%|█████████████████████████████████████████████████████████| 1332709/1332709 [04:57<00:00, 4483.17it/s]\n"
     ]
    }
   ],
   "source": [
    "dataset = Spec2FragsDataset(data=data)"
   ]
  },
  {
   "cell_type": "code",
   "execution_count": 16,
   "id": "0f77b5de-bd4f-4c0b-a1c5-b971b89afcbf",
   "metadata": {},
   "outputs": [],
   "source": [
    "specs_vocab_size = 300\n",
    "\n",
    "SPECS_BOS_TOKEN = specs_vocab_size\n",
    "SPECS_EOS_TOKEN = specs_vocab_size + 1\n",
    "SPECS_PAD_TOKEN = specs_vocab_size + 2\n",
    "\n",
    "# Correct\n",
    "frags_vocab_size = 5113\n",
    "FRAGS_BOS_TOKEN = frags_vocab_size\n",
    "FRAGS_EOS_TOKEN = frags_vocab_size + 1\n",
    "FRAGS_PAD_TOKEN = frags_vocab_size + 2"
   ]
  },
  {
   "cell_type": "code",
   "execution_count": 17,
   "id": "490d5e5f-c5b0-4276-81b9-50239f2771a4",
   "metadata": {},
   "outputs": [],
   "source": [
    "device = torch.device('cuda' if torch.cuda.is_available() else 'cpu')"
   ]
  },
  {
   "cell_type": "code",
   "execution_count": 18,
   "id": "fbf0c3a8-2513-4271-b641-940086eff9b7",
   "metadata": {},
   "outputs": [
    {
     "name": "stderr",
     "output_type": "stream",
     "text": [
      "/tmp/ipykernel_3550793/445455067.py:14: FutureWarning: You are using `torch.load` with `weights_only=False` (the current default value), which uses the default pickle module implicitly. It is possible to construct malicious pickle data which will execute arbitrary code during unpickling (See https://github.com/pytorch/pytorch/blob/main/SECURITY.md#untrusted-models for more details). In a future release, the default value for `weights_only` will be flipped to `True`. This limits the functions that could be executed during unpickling. Arbitrary objects will no longer be allowed to be loaded via this mode unless they are explicitly allowlisted by the user via `torch.serialization.add_safe_globals`. We recommend you start setting `weights_only=True` for any use case where you don't have full control of the loaded file. Please open an issue on GitHub for any issues related to this experimental feature.\n",
      "  model.load_state_dict(torch.load(f'nmr2struct/checkpoints/{checkpoint}.pt', map_location = device))\n"
     ]
    },
    {
     "data": {
      "text/plain": [
       "<All keys matched successfully>"
      ]
     },
     "execution_count": 18,
     "metadata": {},
     "output_type": "execute_result"
    }
   ],
   "source": [
    "model = Transformer(\n",
    "    src_vocab_size=specs_vocab_size + 3,\n",
    "    tgt_vocab_size=frags_vocab_size + 3,\n",
    "    d_model=256,\n",
    "    num_heads=8,\n",
    "    num_layers=4,\n",
    "    d_ff=256,\n",
    "    max_seq_length=100,\n",
    "    dropout=0.2\n",
    ")\n",
    "\n",
    "checkpoint = 'nmr2struct_up_propper_fixed_frags_vocab_10'\n",
    "\n",
    "model.load_state_dict(torch.load(f'nmr2struct/checkpoints/{checkpoint}.pt', map_location = device))"
   ]
  },
  {
   "cell_type": "code",
   "execution_count": 19,
   "id": "fbee32f7-08a5-42c8-b501-4e65a83cfca0",
   "metadata": {},
   "outputs": [],
   "source": [
    "@torch.inference_mode\n",
    "def generate(\n",
    "    src : torch.Tensor\n",
    ") -> torch.Tensor:\n",
    "    tokens = [FRAGS_BOS_TOKEN]\n",
    "    while len(tokens) < 100 and tokens[-1] != FRAGS_EOS_TOKEN:\n",
    "        tokens.append(\n",
    "            model(\n",
    "                src=src.unsqueeze(0).to(device),\n",
    "                tgt=torch.tensor([tokens], dtype=torch.int64).to(device)\n",
    "            )[0, -1, :].argmax().item()\n",
    "        )\n",
    "    return torch.tensor(tokens[1:-1], dtype=torch.int64)"
   ]
  },
  {
   "cell_type": "code",
   "execution_count": 20,
   "id": "ded4efdf-68d5-4ed2-b4e5-14c7d60c09c5",
   "metadata": {},
   "outputs": [
    {
     "name": "stderr",
     "output_type": "stream",
     "text": [
      "100%|███████████████████████████████████████████████████████████| 266542/266542 [4:07:56<00:00, 17.92it/s]\n"
     ]
    }
   ],
   "source": [
    "frags_comparison = {'id':[], 'generated' : [], 'actual' : []}\n",
    "for i in tqdm(train_val_idxs['val_idxs']):\n",
    "    frags_comparison['id'].append(i)\n",
    "    frags_comparison['generated'].append(generate(dataset[i][0]))\n",
    "    frags_comparison['actual'].append(dataset[i][1][1:-1])"
   ]
  },
  {
   "cell_type": "code",
   "execution_count": 21,
   "id": "2c0d8324-8372-44cd-84b2-95810353927d",
   "metadata": {},
   "outputs": [],
   "source": [
    "import pickle"
   ]
  },
  {
   "cell_type": "code",
   "execution_count": 22,
   "id": "945f12a8-2e99-43fd-a6bf-82ae8bd88608",
   "metadata": {},
   "outputs": [],
   "source": [
    "with open(f'nmr2struct/data/{checkpoint}_frags_comparison.pkl', 'wb') as handle:\n",
    "    pickle.dump(frags_comparison, handle, protocol=pickle.HIGHEST_PROTOCOL)"
   ]
  },
  {
   "cell_type": "code",
   "execution_count": null,
   "id": "0036d566-3ec6-40b0-9810-5c96f0f12adc",
   "metadata": {},
   "outputs": [],
   "source": []
  }
 ],
 "metadata": {
  "kernelspec": {
   "display_name": "nmr2struct-kernel",
   "language": "python",
   "name": "nmr2struct-kernel"
  },
  "language_info": {
   "codemirror_mode": {
    "name": "ipython",
    "version": 3
   },
   "file_extension": ".py",
   "mimetype": "text/x-python",
   "name": "python",
   "nbconvert_exporter": "python",
   "pygments_lexer": "ipython3",
   "version": "3.8.20"
  }
 },
 "nbformat": 4,
 "nbformat_minor": 5
}
