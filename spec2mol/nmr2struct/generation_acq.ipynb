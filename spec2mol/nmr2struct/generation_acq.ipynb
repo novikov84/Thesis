{
 "cells": [
  {
   "cell_type": "code",
   "execution_count": 1,
   "id": "fc279ef3-5ce7-4fa6-a97f-7e72c425dfc1",
   "metadata": {},
   "outputs": [],
   "source": [
    "import polars as pl\n",
    "import pandas as pd\n",
    "import json\n",
    "from tqdm import tqdm\n",
    "import pickle"
   ]
  },
  {
   "cell_type": "code",
   "execution_count": 2,
   "id": "5a480fb9-b294-475f-b310-c326594183b6",
   "metadata": {},
   "outputs": [],
   "source": [
    "checkpoint = 'nmr2struct_up_propper_fixed_frags_vocab_10'"
   ]
  },
  {
   "cell_type": "code",
   "execution_count": 3,
   "id": "fe73a139-238e-4d19-b03a-911c299fee93",
   "metadata": {},
   "outputs": [],
   "source": [
    "with open(f'nmr2struct/data/{checkpoint}_frags_comparison.pkl', 'rb') as handle:\n",
    "    frags_comparison = pickle.load(handle)"
   ]
  },
  {
   "cell_type": "code",
   "execution_count": 4,
   "id": "3d9ba15e-20b9-439b-81bd-f3c575681ea1",
   "metadata": {},
   "outputs": [],
   "source": [
    "df = pl.read_csv('nmr2struct/data/spec_df.csv', separator='\\t', truncate_ragged_lines=True)"
   ]
  },
  {
   "cell_type": "code",
   "execution_count": 5,
   "id": "c3da0817-29a6-4db6-a8ac-dc9c09f67a72",
   "metadata": {},
   "outputs": [],
   "source": [
    "signals = df['signals'].str.json_decode()"
   ]
  },
  {
   "cell_type": "code",
   "execution_count": 6,
   "id": "13dc05d4-4ffb-4a03-beab-10247691fe32",
   "metadata": {},
   "outputs": [],
   "source": [
    "frags_comparison['spectrum'] = []"
   ]
  },
  {
   "cell_type": "code",
   "execution_count": 7,
   "id": "6f03c84e-7bda-4bb7-9e43-728c17db02f7",
   "metadata": {},
   "outputs": [
    {
     "name": "stderr",
     "output_type": "stream",
     "text": [
      "100%|█████████████████████████████████████████████████████████| 266542/266542 [00:00<00:00, 649900.49it/s]\n"
     ]
    }
   ],
   "source": [
    "for idx in tqdm(frags_comparison['id']):\n",
    "    frags_comparison['spectrum'].append(signals[idx])"
   ]
  },
  {
   "cell_type": "code",
   "execution_count": 8,
   "id": "ee934ba7-f56d-4505-995c-338860c2d952",
   "metadata": {},
   "outputs": [],
   "source": [
    "with open('nmr2struct/fp2frags.json') as f:\n",
    "    fp2_dict = json.loads(f.read())"
   ]
  },
  {
   "cell_type": "code",
   "execution_count": 9,
   "id": "19bcccb7-9b5e-4dec-93fa-77e4494e3b5d",
   "metadata": {},
   "outputs": [],
   "source": [
    "fp2 = []\n",
    "for x in fp2_dict.keys():\n",
    "    fp2.append(x)"
   ]
  },
  {
   "cell_type": "code",
   "execution_count": 10,
   "id": "661ab7e9-15d9-4ba4-9b99-460b19d8bd8c",
   "metadata": {},
   "outputs": [],
   "source": [
    "frags_comparison['generated_sm'] = []\n",
    "frags_comparison['actual_sm'] = []"
   ]
  },
  {
   "cell_type": "code",
   "execution_count": 11,
   "id": "ff82b608-5a93-4e33-96a9-96afeb598c56",
   "metadata": {},
   "outputs": [
    {
     "name": "stderr",
     "output_type": "stream",
     "text": [
      "100%|███████████████████████████████████████████████████████████| 266542/266542 [01:49<00:00, 2428.78it/s]\n"
     ]
    }
   ],
   "source": [
    "for frags in tqdm(frags_comparison['actual']):\n",
    "    frag_sm = []\n",
    "    for x in set(frags):\n",
    "        if x < len(fp2):\n",
    "            frag_sm.append(fp2[x])\n",
    "        else:\n",
    "            frag_sm.append('')\n",
    "        \n",
    "    frags_comparison['actual_sm'].append(frag_sm)\n"
   ]
  },
  {
   "cell_type": "code",
   "execution_count": 12,
   "id": "3724b8fb-037a-46cf-be3c-2af1e667c1e0",
   "metadata": {},
   "outputs": [
    {
     "name": "stderr",
     "output_type": "stream",
     "text": [
      "100%|██████████████████████████████████████████████████████████| 266542/266542 [00:16<00:00, 16087.57it/s]\n"
     ]
    }
   ],
   "source": [
    "for frags in tqdm(frags_comparison['generated']):\n",
    "    frag_sm = []\n",
    "    for x in set(frags):\n",
    "        if x < len(fp2):\n",
    "            frag_sm.append(fp2[x])\n",
    "        else:\n",
    "            frag_sm.append('')\n",
    "        \n",
    "    frags_comparison['generated_sm'].append(frag_sm)"
   ]
  },
  {
   "cell_type": "code",
   "execution_count": 13,
   "id": "2fa165c3-09a2-45a4-ad90-dde383fbd7d3",
   "metadata": {},
   "outputs": [],
   "source": [
    "with open(f'nmr2struct/data/{checkpoint}_pediction_with_sm.pkl', 'wb') as handle:\n",
    "    pickle.dump(frags_comparison, handle, protocol=pickle.HIGHEST_PROTOCOL)"
   ]
  },
  {
   "cell_type": "code",
   "execution_count": 14,
   "id": "99232f79-852f-4603-b0b3-ec084772d8cd",
   "metadata": {},
   "outputs": [
    {
     "data": {
      "text/plain": [
       "dict_keys(['id', 'generated', 'actual', 'spectrum', 'generated_sm', 'actual_sm'])"
      ]
     },
     "execution_count": 14,
     "metadata": {},
     "output_type": "execute_result"
    }
   ],
   "source": [
    "frags_comparison.keys()"
   ]
  },
  {
   "cell_type": "code",
   "execution_count": 15,
   "id": "364ab237-2a00-42f0-aa4c-c63dda536b4e",
   "metadata": {},
   "outputs": [],
   "source": [
    "def accuracy(\n",
    "    a,\n",
    "    b\n",
    ") -> float:\n",
    "    \n",
    "    return 2 * np.intersect1d(a.numpy(), b.numpy()).shape[0] / (len(set(b.tolist())) + len(set(a.tolist())))"
   ]
  },
  {
   "cell_type": "code",
   "execution_count": 16,
   "id": "4e131c67-e7e9-4a52-971d-d33a1822f5af",
   "metadata": {},
   "outputs": [],
   "source": [
    "val_acc = []"
   ]
  },
  {
   "cell_type": "code",
   "execution_count": 17,
   "id": "5e98f850-93b2-4fd8-ac05-070c4c036a86",
   "metadata": {},
   "outputs": [],
   "source": [
    "import numpy as np"
   ]
  },
  {
   "cell_type": "code",
   "execution_count": 19,
   "id": "b2abc685-9592-4c84-9077-b131af2e1597",
   "metadata": {},
   "outputs": [
    {
     "name": "stderr",
     "output_type": "stream",
     "text": [
      "100%|██████████████████████████████████████████████████████████| 266542/266542 [00:10<00:00, 25047.74it/s]\n"
     ]
    }
   ],
   "source": [
    "for i in tqdm(range(len(frags_comparison['generated']))):\n",
    "    val_acc.append(\n",
    "        accuracy(frags_comparison['generated'][i].to('cpu'),\n",
    "            frags_comparison['actual'][i].to('cpu')\n",
    "        )\n",
    "    )"
   ]
  },
  {
   "cell_type": "code",
   "execution_count": 20,
   "id": "18c69eb3-d37c-4cad-9262-065cc4fdf2c1",
   "metadata": {},
   "outputs": [],
   "source": [
    "import matplotlib.pyplot as plt"
   ]
  },
  {
   "cell_type": "code",
   "execution_count": 21,
   "id": "4c8e567d-0913-4160-b366-2b06086fc09e",
   "metadata": {},
   "outputs": [
    {
     "data": {
      "text/plain": [
       "Text(0.5, 0, 'Accuracy')"
      ]
     },
     "execution_count": 21,
     "metadata": {},
     "output_type": "execute_result"
    },
    {
     "data": {
      "image/png": "[encoded data removed]",
      "text/plain": [
       "<Figure size 640x480 with 1 Axes>"
      ]
     },
     "metadata": {},
     "output_type": "display_data"
    }
   ],
   "source": [
    "plt.hist(val_acc, alpha=0.8, label='val', bins=20)\n",
    "plt.legend()\n",
    "plt.xlabel('Accuracy')"
   ]
  },
  {
   "cell_type": "code",
   "execution_count": 22,
   "id": "53e37111-7652-4167-8286-e35203bcb014",
   "metadata": {},
   "outputs": [],
   "source": [
    "good_pairs = []\n",
    "for i in range(len(val_acc)):\n",
    "    if val_acc[i] == 1:\n",
    "        good_pairs.append([frags_comparison['generated'][i], frags_comparison['actual'][i]])"
   ]
  },
  {
   "cell_type": "code",
   "execution_count": 23,
   "id": "da2a7af8-3d3e-4f63-98f7-39a92255c3cb",
   "metadata": {},
   "outputs": [
    {
     "data": {
      "text/plain": [
       "15736"
      ]
     },
     "execution_count": 23,
     "metadata": {},
     "output_type": "execute_result"
    }
   ],
   "source": [
    "len(good_pairs)"
   ]
  },
  {
   "cell_type": "code",
   "execution_count": null,
   "id": "cd0da71d-2aa6-4de8-a868-28f37cb8e32d",
   "metadata": {},
   "outputs": [],
   "source": []
  }
 ],
 "metadata": {
  "kernelspec": {
   "display_name": "nmr2struct-kernel",
   "language": "python",
   "name": "nmr2struct-kernel"
  },
  "language_info": {
   "codemirror_mode": {
    "name": "ipython",
    "version": 3
   },
   "file_extension": ".py",
   "mimetype": "text/x-python",
   "name": "python",
   "nbconvert_exporter": "python",
   "pygments_lexer": "ipython3",
   "version": "3.8.20"
  }
 },
 "nbformat": 4,
 "nbformat_minor": 5
}
