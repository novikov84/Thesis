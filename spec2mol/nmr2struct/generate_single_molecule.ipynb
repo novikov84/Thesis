{
 "cells": [
  {
   "cell_type": "code",
   "execution_count": 1,
   "id": "408f5e90-50be-4f12-8628-dc2467ec3e73",
   "metadata": {},
   "outputs": [],
   "source": [
    "import json\n",
    "import torch\n",
    "from nmr2struct.spec2frags_model import Transformer, generate, Spec2Gen\n",
    "from tqdm import tqdm"
   ]
  },
  {
   "cell_type": "code",
   "execution_count": 2,
   "id": "f5e550b8-171d-4564-b273-df87f5796abc",
   "metadata": {},
   "outputs": [],
   "source": [
    "specs_vocab_size = 300\n",
    "# Correct\n",
    "frags_vocab_size = 5113\n",
    "\n",
    "device = torch.device('cuda' if torch.cuda.is_available() else 'cpu')"
   ]
  },
  {
   "cell_type": "code",
   "execution_count": 3,
   "id": "e03513cf-7128-4e33-a4b2-0e9621f24c56",
   "metadata": {},
   "outputs": [
    {
     "name": "stderr",
     "output_type": "stream",
     "text": [
      "/tmp/ipykernel_3563112/445455067.py:14: FutureWarning: You are using `torch.load` with `weights_only=False` (the current default value), which uses the default pickle module implicitly. It is possible to construct malicious pickle data which will execute arbitrary code during unpickling (See https://github.com/pytorch/pytorch/blob/main/SECURITY.md#untrusted-models for more details). In a future release, the default value for `weights_only` will be flipped to `True`. This limits the functions that could be executed during unpickling. Arbitrary objects will no longer be allowed to be loaded via this mode unless they are explicitly allowlisted by the user via `torch.serialization.add_safe_globals`. We recommend you start setting `weights_only=True` for any use case where you don't have full control of the loaded file. Please open an issue on GitHub for any issues related to this experimental feature.\n",
      "  model.load_state_dict(torch.load(f'nmr2struct/checkpoints/{checkpoint}.pt', map_location = device))\n"
     ]
    },
    {
     "data": {
      "text/plain": [
       "<All keys matched successfully>"
      ]
     },
     "execution_count": 3,
     "metadata": {},
     "output_type": "execute_result"
    }
   ],
   "source": [
    "model = Transformer(\n",
    "    src_vocab_size=specs_vocab_size + 3,\n",
    "    tgt_vocab_size=frags_vocab_size + 3,\n",
    "    d_model=256,\n",
    "    num_heads=8,\n",
    "    num_layers=4,\n",
    "    d_ff=256,\n",
    "    max_seq_length=100,\n",
    "    dropout=0.2\n",
    ")\n",
    "\n",
    "checkpoint = 'nmr2struct_up_propper_fixed_frags_vocab_10'\n",
    "\n",
    "model.load_state_dict(torch.load(f'nmr2struct/checkpoints/{checkpoint}.pt', map_location = device))"
   ]
  },
  {
   "cell_type": "code",
   "execution_count": 4,
   "id": "60ff72bd-88c3-4350-ac0a-b013750addc0",
   "metadata": {},
   "outputs": [],
   "source": [
    "with open('nmr2struct/fp2frags.json') as f:\n",
    "    fp2_dict = json.loads(f.read())\n",
    "\n",
    "fp2 = []\n",
    "for x in fp2_dict.keys():\n",
    "    fp2.append(x)"
   ]
  },
  {
   "cell_type": "code",
   "execution_count": 5,
   "id": "25a24ea6-b4e5-47a6-a2fb-018301e73e64",
   "metadata": {},
   "outputs": [],
   "source": [
    "input_spectra = [\n",
    "    [149.1, 140.6, 127.0, 126.7, 124.0, 119.8, 42.4, 18.2],\n",
    "    [161.8, 135.18, 134.5, 130.25, 129.82, 127.9, 127.11]\n",
    "                ]"
   ]
  },
  {
   "cell_type": "code",
   "execution_count": 6,
   "id": "5cc9eb60-7460-40e5-9832-382ba8ff3987",
   "metadata": {},
   "outputs": [
    {
     "name": "stderr",
     "output_type": "stream",
     "text": [
      "100%|████████████████████████████████████████████| 2/2 [00:00<00:00, 906.09it/s]\n"
     ]
    }
   ],
   "source": [
    "signals = Spec2Gen(data=input_spectra)"
   ]
  },
  {
   "cell_type": "code",
   "execution_count": 7,
   "id": "c3d888ab-724c-4125-88e9-c42b1ad1776b",
   "metadata": {},
   "outputs": [],
   "source": [
    "gen_frags = []\n",
    "num_gen = 50\n",
    "\n",
    "for signal in signals:\n",
    "    frag_sm_list = []\n",
    "    for _ in range(num_gen):\n",
    "        frag_sm = []\n",
    "        \n",
    "        frags = generate(signal, model)\n",
    "        \n",
    "        for x in set(frags):\n",
    "            if x < len(fp2):\n",
    "                frag_sm.append(fp2[x])\n",
    "            else:\n",
    "                frag_sm.append('')\n",
    "        frag_sm_list.append(frag_sm)\n",
    "    gen_frags.append(frag_sm_list)"
   ]
  }
 ],
 "metadata": {
  "kernelspec": {
   "display_name": "nmr2struct-kernel",
   "language": "python",
   "name": "nmr2struct-kernel"
  },
  "language_info": {
   "codemirror_mode": {
    "name": "ipython",
    "version": 3
   },
   "file_extension": ".py",
   "mimetype": "text/x-python",
   "name": "python",
   "nbconvert_exporter": "python",
   "pygments_lexer": "ipython3",
   "version": "3.8.20"
  }
 },
 "nbformat": 4,
 "nbformat_minor": 5
}
